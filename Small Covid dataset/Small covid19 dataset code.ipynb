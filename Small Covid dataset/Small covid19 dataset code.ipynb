{
 "cells": [
  {
   "cell_type": "code",
   "execution_count": 19,
   "metadata": {},
   "outputs": [],
   "source": [
    "import pandas as pd\n",
    "import numpy as np\n",
    "import matplotlib.pyplot as plt"
   ]
  },
  {
   "cell_type": "code",
   "execution_count": 20,
   "metadata": {},
   "outputs": [],
   "source": [
    "df=pd.read_csv(\"covid.csv\")"
   ]
  },
  {
   "cell_type": "code",
   "execution_count": 21,
   "metadata": {},
   "outputs": [
    {
     "data": {
      "text/html": [
       "<div>\n",
       "<style scoped>\n",
       "    .dataframe tbody tr th:only-of-type {\n",
       "        vertical-align: middle;\n",
       "    }\n",
       "\n",
       "    .dataframe tbody tr th {\n",
       "        vertical-align: top;\n",
       "    }\n",
       "\n",
       "    .dataframe thead th {\n",
       "        text-align: right;\n",
       "    }\n",
       "</style>\n",
       "<table border=\"1\" class=\"dataframe\">\n",
       "  <thead>\n",
       "    <tr style=\"text-align: right;\">\n",
       "      <th></th>\n",
       "      <th>Date</th>\n",
       "      <th>State</th>\n",
       "      <th>Region</th>\n",
       "      <th>Confirmed</th>\n",
       "      <th>Deaths</th>\n",
       "      <th>Recovered</th>\n",
       "    </tr>\n",
       "  </thead>\n",
       "  <tbody>\n",
       "    <tr>\n",
       "      <th>0</th>\n",
       "      <td>4/29/2020</td>\n",
       "      <td>Alabama</td>\n",
       "      <td>US</td>\n",
       "      <td>6912</td>\n",
       "      <td>256</td>\n",
       "      <td>0</td>\n",
       "    </tr>\n",
       "    <tr>\n",
       "      <th>1</th>\n",
       "      <td>4/29/2020</td>\n",
       "      <td>Alaska</td>\n",
       "      <td>US</td>\n",
       "      <td>355</td>\n",
       "      <td>9</td>\n",
       "      <td>0</td>\n",
       "    </tr>\n",
       "    <tr>\n",
       "      <th>2</th>\n",
       "      <td>4/29/2020</td>\n",
       "      <td>Alberta</td>\n",
       "      <td>Canada</td>\n",
       "      <td>5165</td>\n",
       "      <td>87</td>\n",
       "      <td>0</td>\n",
       "    </tr>\n",
       "    <tr>\n",
       "      <th>3</th>\n",
       "      <td>4/29/2020</td>\n",
       "      <td>Anguilla</td>\n",
       "      <td>UK</td>\n",
       "      <td>3</td>\n",
       "      <td>0</td>\n",
       "      <td>3</td>\n",
       "    </tr>\n",
       "    <tr>\n",
       "      <th>4</th>\n",
       "      <td>4/29/2020</td>\n",
       "      <td>Anhui</td>\n",
       "      <td>Mainland China</td>\n",
       "      <td>991</td>\n",
       "      <td>6</td>\n",
       "      <td>985</td>\n",
       "    </tr>\n",
       "    <tr>\n",
       "      <th>...</th>\n",
       "      <td>...</td>\n",
       "      <td>...</td>\n",
       "      <td>...</td>\n",
       "      <td>...</td>\n",
       "      <td>...</td>\n",
       "      <td>...</td>\n",
       "    </tr>\n",
       "    <tr>\n",
       "      <th>135</th>\n",
       "      <td>4/29/2020</td>\n",
       "      <td>Wyoming</td>\n",
       "      <td>US</td>\n",
       "      <td>545</td>\n",
       "      <td>7</td>\n",
       "      <td>0</td>\n",
       "    </tr>\n",
       "    <tr>\n",
       "      <th>136</th>\n",
       "      <td>4/29/2020</td>\n",
       "      <td>Xinjiang</td>\n",
       "      <td>Mainland China</td>\n",
       "      <td>76</td>\n",
       "      <td>3</td>\n",
       "      <td>73</td>\n",
       "    </tr>\n",
       "    <tr>\n",
       "      <th>137</th>\n",
       "      <td>4/29/2020</td>\n",
       "      <td>Yukon</td>\n",
       "      <td>Canada</td>\n",
       "      <td>11</td>\n",
       "      <td>0</td>\n",
       "      <td>0</td>\n",
       "    </tr>\n",
       "    <tr>\n",
       "      <th>138</th>\n",
       "      <td>4/29/2020</td>\n",
       "      <td>Yunnan</td>\n",
       "      <td>Mainland China</td>\n",
       "      <td>185</td>\n",
       "      <td>2</td>\n",
       "      <td>181</td>\n",
       "    </tr>\n",
       "    <tr>\n",
       "      <th>139</th>\n",
       "      <td>4/29/2020</td>\n",
       "      <td>Zhejiang</td>\n",
       "      <td>Mainland China</td>\n",
       "      <td>1268</td>\n",
       "      <td>1</td>\n",
       "      <td>1263</td>\n",
       "    </tr>\n",
       "  </tbody>\n",
       "</table>\n",
       "<p>140 rows × 6 columns</p>\n",
       "</div>"
      ],
      "text/plain": [
       "          Date     State          Region  Confirmed  Deaths  Recovered\n",
       "0    4/29/2020   Alabama              US       6912     256          0\n",
       "1    4/29/2020    Alaska              US        355       9          0\n",
       "2    4/29/2020   Alberta          Canada       5165      87          0\n",
       "3    4/29/2020  Anguilla              UK          3       0          3\n",
       "4    4/29/2020     Anhui  Mainland China        991       6        985\n",
       "..         ...       ...             ...        ...     ...        ...\n",
       "135  4/29/2020   Wyoming              US        545       7          0\n",
       "136  4/29/2020  Xinjiang  Mainland China         76       3         73\n",
       "137  4/29/2020     Yukon          Canada         11       0          0\n",
       "138  4/29/2020    Yunnan  Mainland China        185       2        181\n",
       "139  4/29/2020  Zhejiang  Mainland China       1268       1       1263\n",
       "\n",
       "[140 rows x 6 columns]"
      ]
     },
     "execution_count": 21,
     "metadata": {},
     "output_type": "execute_result"
    }
   ],
   "source": [
    "df"
   ]
  },
  {
   "cell_type": "code",
   "execution_count": 22,
   "metadata": {},
   "outputs": [
    {
     "data": {
      "text/plain": [
       "(140, 6)"
      ]
     },
     "execution_count": 22,
     "metadata": {},
     "output_type": "execute_result"
    }
   ],
   "source": [
    "# diaply number of rows and columns\n",
    "df.shape"
   ]
  },
  {
   "cell_type": "code",
   "execution_count": 23,
   "metadata": {},
   "outputs": [
    {
     "data": {
      "text/html": [
       "<div>\n",
       "<style scoped>\n",
       "    .dataframe tbody tr th:only-of-type {\n",
       "        vertical-align: middle;\n",
       "    }\n",
       "\n",
       "    .dataframe tbody tr th {\n",
       "        vertical-align: top;\n",
       "    }\n",
       "\n",
       "    .dataframe thead th {\n",
       "        text-align: right;\n",
       "    }\n",
       "</style>\n",
       "<table border=\"1\" class=\"dataframe\">\n",
       "  <thead>\n",
       "    <tr style=\"text-align: right;\">\n",
       "      <th></th>\n",
       "      <th>Date</th>\n",
       "      <th>State</th>\n",
       "      <th>Region</th>\n",
       "      <th>Confirmed</th>\n",
       "      <th>Deaths</th>\n",
       "      <th>Recovered</th>\n",
       "    </tr>\n",
       "  </thead>\n",
       "  <tbody>\n",
       "    <tr>\n",
       "      <th>0</th>\n",
       "      <td>4/29/2020</td>\n",
       "      <td>Alabama</td>\n",
       "      <td>US</td>\n",
       "      <td>6912</td>\n",
       "      <td>256</td>\n",
       "      <td>0</td>\n",
       "    </tr>\n",
       "    <tr>\n",
       "      <th>1</th>\n",
       "      <td>4/29/2020</td>\n",
       "      <td>Alaska</td>\n",
       "      <td>US</td>\n",
       "      <td>355</td>\n",
       "      <td>9</td>\n",
       "      <td>0</td>\n",
       "    </tr>\n",
       "    <tr>\n",
       "      <th>2</th>\n",
       "      <td>4/29/2020</td>\n",
       "      <td>Alberta</td>\n",
       "      <td>Canada</td>\n",
       "      <td>5165</td>\n",
       "      <td>87</td>\n",
       "      <td>0</td>\n",
       "    </tr>\n",
       "    <tr>\n",
       "      <th>3</th>\n",
       "      <td>4/29/2020</td>\n",
       "      <td>Anguilla</td>\n",
       "      <td>UK</td>\n",
       "      <td>3</td>\n",
       "      <td>0</td>\n",
       "      <td>3</td>\n",
       "    </tr>\n",
       "    <tr>\n",
       "      <th>4</th>\n",
       "      <td>4/29/2020</td>\n",
       "      <td>Anhui</td>\n",
       "      <td>Mainland China</td>\n",
       "      <td>991</td>\n",
       "      <td>6</td>\n",
       "      <td>985</td>\n",
       "    </tr>\n",
       "  </tbody>\n",
       "</table>\n",
       "</div>"
      ],
      "text/plain": [
       "        Date     State          Region  Confirmed  Deaths  Recovered\n",
       "0  4/29/2020   Alabama              US       6912     256          0\n",
       "1  4/29/2020    Alaska              US        355       9          0\n",
       "2  4/29/2020   Alberta          Canada       5165      87          0\n",
       "3  4/29/2020  Anguilla              UK          3       0          3\n",
       "4  4/29/2020     Anhui  Mainland China        991       6        985"
      ]
     },
     "execution_count": 23,
     "metadata": {},
     "output_type": "execute_result"
    }
   ],
   "source": [
    "#display top 5 records\n",
    "df.head()"
   ]
  },
  {
   "cell_type": "code",
   "execution_count": 24,
   "metadata": {},
   "outputs": [
    {
     "data": {
      "text/html": [
       "<div>\n",
       "<style scoped>\n",
       "    .dataframe tbody tr th:only-of-type {\n",
       "        vertical-align: middle;\n",
       "    }\n",
       "\n",
       "    .dataframe tbody tr th {\n",
       "        vertical-align: top;\n",
       "    }\n",
       "\n",
       "    .dataframe thead th {\n",
       "        text-align: right;\n",
       "    }\n",
       "</style>\n",
       "<table border=\"1\" class=\"dataframe\">\n",
       "  <thead>\n",
       "    <tr style=\"text-align: right;\">\n",
       "      <th></th>\n",
       "      <th>Date</th>\n",
       "      <th>State</th>\n",
       "      <th>Region</th>\n",
       "      <th>Confirmed</th>\n",
       "      <th>Deaths</th>\n",
       "      <th>Recovered</th>\n",
       "    </tr>\n",
       "  </thead>\n",
       "  <tbody>\n",
       "    <tr>\n",
       "      <th>135</th>\n",
       "      <td>4/29/2020</td>\n",
       "      <td>Wyoming</td>\n",
       "      <td>US</td>\n",
       "      <td>545</td>\n",
       "      <td>7</td>\n",
       "      <td>0</td>\n",
       "    </tr>\n",
       "    <tr>\n",
       "      <th>136</th>\n",
       "      <td>4/29/2020</td>\n",
       "      <td>Xinjiang</td>\n",
       "      <td>Mainland China</td>\n",
       "      <td>76</td>\n",
       "      <td>3</td>\n",
       "      <td>73</td>\n",
       "    </tr>\n",
       "    <tr>\n",
       "      <th>137</th>\n",
       "      <td>4/29/2020</td>\n",
       "      <td>Yukon</td>\n",
       "      <td>Canada</td>\n",
       "      <td>11</td>\n",
       "      <td>0</td>\n",
       "      <td>0</td>\n",
       "    </tr>\n",
       "    <tr>\n",
       "      <th>138</th>\n",
       "      <td>4/29/2020</td>\n",
       "      <td>Yunnan</td>\n",
       "      <td>Mainland China</td>\n",
       "      <td>185</td>\n",
       "      <td>2</td>\n",
       "      <td>181</td>\n",
       "    </tr>\n",
       "    <tr>\n",
       "      <th>139</th>\n",
       "      <td>4/29/2020</td>\n",
       "      <td>Zhejiang</td>\n",
       "      <td>Mainland China</td>\n",
       "      <td>1268</td>\n",
       "      <td>1</td>\n",
       "      <td>1263</td>\n",
       "    </tr>\n",
       "  </tbody>\n",
       "</table>\n",
       "</div>"
      ],
      "text/plain": [
       "          Date     State          Region  Confirmed  Deaths  Recovered\n",
       "135  4/29/2020   Wyoming              US        545       7          0\n",
       "136  4/29/2020  Xinjiang  Mainland China         76       3         73\n",
       "137  4/29/2020     Yukon          Canada         11       0          0\n",
       "138  4/29/2020    Yunnan  Mainland China        185       2        181\n",
       "139  4/29/2020  Zhejiang  Mainland China       1268       1       1263"
      ]
     },
     "execution_count": 24,
     "metadata": {},
     "output_type": "execute_result"
    }
   ],
   "source": [
    "#display last 5 records\n",
    "df.tail()"
   ]
  },
  {
   "cell_type": "code",
   "execution_count": 25,
   "metadata": {},
   "outputs": [
    {
     "data": {
      "text/plain": [
       "Date         0\n",
       "State        0\n",
       "Region       0\n",
       "Confirmed    0\n",
       "Deaths       0\n",
       "Recovered    0\n",
       "dtype: int64"
      ]
     },
     "execution_count": 25,
     "metadata": {},
     "output_type": "execute_result"
    }
   ],
   "source": [
    "#find null vlaues inthe column\n",
    "df.isnull().sum()"
   ]
  },
  {
   "cell_type": "code",
   "execution_count": 26,
   "metadata": {},
   "outputs": [
    {
     "data": {
      "text/plain": [
       "0"
      ]
     },
     "execution_count": 26,
     "metadata": {},
     "output_type": "execute_result"
    }
   ],
   "source": [
    "# find duplicate values in the rows\n",
    "df.duplicated().sum()"
   ]
  },
  {
   "cell_type": "code",
   "execution_count": 27,
   "metadata": {},
   "outputs": [
    {
     "data": {
      "text/plain": [
       "Date           1\n",
       "State        137\n",
       "Region        10\n",
       "Confirmed    126\n",
       "Deaths        69\n",
       "Recovered     64\n",
       "dtype: int64"
      ]
     },
     "execution_count": 27,
     "metadata": {},
     "output_type": "execute_result"
    }
   ],
   "source": [
    "df.nunique()"
   ]
  },
  {
   "cell_type": "code",
   "execution_count": 28,
   "metadata": {},
   "outputs": [
    {
     "name": "stdout",
     "output_type": "stream",
     "text": [
      "<class 'pandas.core.frame.DataFrame'>\n",
      "RangeIndex: 140 entries, 0 to 139\n",
      "Data columns (total 6 columns):\n",
      " #   Column     Non-Null Count  Dtype \n",
      "---  ------     --------------  ----- \n",
      " 0   Date       140 non-null    object\n",
      " 1   State      140 non-null    object\n",
      " 2   Region     140 non-null    object\n",
      " 3   Confirmed  140 non-null    int64 \n",
      " 4   Deaths     140 non-null    int64 \n",
      " 5   Recovered  140 non-null    int64 \n",
      "dtypes: int64(3), object(3)\n",
      "memory usage: 6.7+ KB\n"
     ]
    }
   ],
   "source": [
    "df.info()"
   ]
  },
  {
   "cell_type": "code",
   "execution_count": 60,
   "metadata": {},
   "outputs": [
    {
     "data": {
      "image/png": "[encoded data removed]",
      "text/plain": [
       "<Figure size 720x360 with 1 Axes>"
      ]
     },
     "metadata": {
      "needs_background": "light"
     },
     "output_type": "display_data"
    }
   ],
   "source": [
    "# Questions\n",
    "# display statewise conformed, death, recoved cases\n",
    "x_axis = np.arange(len(df['State']))\n",
    "plt.figure(figsize=(10,5))\n",
    "\n",
    "# Multi bar Chart\n",
    "\n",
    "plt.bar(x_axis -0.2, df['Confirmed'], width=0.4, label = 'Confired')\n",
    "plt.bar(x_axis +0.2, df['Deaths'], width=0.4, label = 'Death')\n",
    "plt.bar(x_axis +0.2, df['Recovered'], width=0.4, label = 'Recovered')\n",
    "\n",
    "# Xticks\n",
    "\n",
    "plt.xticks(x_axis, df['State'])\n",
    "\n",
    "# Add legend\n",
    "\n",
    "plt.legend()\n",
    "\n",
    "# Display\n",
    "\n",
    "\n",
    "plt.show()"
   ]
  },
  {
   "cell_type": "code",
   "execution_count": 57,
   "metadata": {},
   "outputs": [
    {
     "name": "stdout",
     "output_type": "stream",
     "text": [
      "                Confirmed  Deaths  Recovered\n",
      "Region                                      \n",
      "Australia            6752      91       5715\n",
      "Canada              52865    3155      20327\n",
      "Denmark               198       0        192\n",
      "France               1450      34        890\n",
      "Hong Kong            1037       4        830\n",
      "Macau                  45       0         34\n",
      "Mainland China      82862    4633      77610\n",
      "Netherlands           196      16        119\n",
      "UK                   1220      69        857\n",
      "US                1039909   60967     120720\n",
      "10\n"
     ]
    }
   ],
   "source": [
    "df1=df.groupby(['Region']).sum()\n",
    "print(df1)\n",
    "print(len(df1))"
   ]
  },
  {
   "cell_type": "code",
   "execution_count": 74,
   "metadata": {},
   "outputs": [
    {
     "data": {
      "image/png": "[encoded data removed]",
      "text/plain": [
       "<Figure size 432x288 with 1 Axes>"
      ]
     },
     "metadata": {
      "needs_background": "light"
     },
     "output_type": "display_data"
    }
   ],
   "source": [
    "# Questions\n",
    "# display regionwaise confirmed, death, recoved cases\n",
    "\n",
    "df1[['Confirmed','Deaths','Recovered']].plot(kind='bar')\n",
    "\n",
    "plt.show()"
   ]
  },
  {
   "cell_type": "code",
   "execution_count": 91,
   "metadata": {},
   "outputs": [
    {
     "name": "stdout",
     "output_type": "stream",
     "text": [
      "                            State  Confirmed   Deaths  Recovered\n",
      "0                         Alabama     6912.0    256.0        0.0\n",
      "1                          Alaska      355.0      9.0        0.0\n",
      "5                         Arizona     7209.0    308.0        0.0\n",
      "6                        Arkansas     3193.0     57.0        0.0\n",
      "14                     California    48747.0   1946.0        0.0\n",
      "18                       Colorado    14758.0    766.0        0.0\n",
      "19                    Connecticut    26767.0   2169.0        0.0\n",
      "21                       Delaware     4655.0    144.0        0.0\n",
      "23   Diamond Princess cruise ship       49.0      0.0        0.0\n",
      "24           District of Columbia     4106.0    205.0        0.0\n",
      "27                        Florida    33193.0   1218.0        0.0\n",
      "32                        Georgia    25775.0   1101.0        0.0\n",
      "35                 Grand Princess      103.0      3.0        0.0\n",
      "38                           Guam      141.0      5.0        0.0\n",
      "43                         Hawaii      613.0     16.0        0.0\n",
      "50                          Idaho     1952.0     60.0        0.0\n",
      "51                       Illinois    50358.0   2215.0        0.0\n",
      "52                        Indiana    17182.0    964.0        0.0\n",
      "54                           Iowa     6843.0    148.0        0.0\n",
      "59                         Kansas     3839.0    134.0        0.0\n",
      "60                       Kentucky     4537.0    234.0        0.0\n",
      "62                      Louisiana    27660.0   1845.0        0.0\n",
      "64                          Maine     1056.0     52.0        0.0\n",
      "67                       Maryland    20849.0   1078.0        0.0\n",
      "68                  Massachusetts    60265.0   3405.0        0.0\n",
      "70                       Michigan    40399.0   3670.0        0.0\n",
      "71                      Minnesota     4644.0    319.0        0.0\n",
      "72                    Mississippi     6569.0    250.0        0.0\n",
      "73                       Missouri     7660.0    338.0        0.0\n",
      "74                        Montana      451.0     16.0        0.0\n",
      "76                       Nebraska     3851.0     56.0        0.0\n",
      "77                         Nevada     4934.0    230.0        0.0\n",
      "80                  New Hampshire     2058.0     60.0        0.0\n",
      "81                     New Jersey   116365.0   6771.0        0.0\n",
      "82                     New Mexico     3213.0    112.0        0.0\n",
      "84                       New York   299691.0  23477.0        0.0\n",
      "87                 North Carolina    10180.0    382.0        0.0\n",
      "88                   North Dakota     1033.0     19.0        0.0\n",
      "89       Northern Mariana Islands       14.0      2.0        0.0\n",
      "93                           Ohio    17303.0    937.0        0.0\n",
      "94                       Oklahoma     3473.0    214.0        0.0\n",
      "96                         Oregon     2446.0    101.0        0.0\n",
      "97                   Pennsylvania    46327.0   2373.0        0.0\n",
      "99                    Puerto Rico     1433.0     86.0        0.0\n",
      "104                     Recovered        0.0      0.0   120720.0\n",
      "106                  Rhode Island     8247.0    251.0        0.0\n",
      "117                South Carolina     5882.0    231.0        0.0\n",
      "118                  South Dakota     2373.0     13.0        0.0\n",
      "121                     Tennessee    10366.0    195.0        0.0\n",
      "122                         Texas    27257.0    754.0        0.0\n",
      "126                          Utah     4497.0     45.0        0.0\n",
      "127                       Vermont      862.0     47.0        0.0\n",
      "129                Virgin Islands       57.0      4.0        0.0\n",
      "130                      Virginia    14962.0    522.0        0.0\n",
      "131                    Washington    14070.0    801.0        0.0\n",
      "132                 West Virginia     1110.0     38.0        0.0\n",
      "134                     Wisconsin     6520.0    308.0        0.0\n",
      "135                       Wyoming      545.0      7.0        0.0\n"
     ]
    },
    {
     "data": {
      "text/plain": [
       "<Figure size 720x360 with 0 Axes>"
      ]
     },
     "metadata": {},
     "output_type": "display_data"
    },
    {
     "data": {
      "image/png": "[encoded data removed]",
      "text/plain": [
       "<Figure size 432x288 with 1 Axes>"
      ]
     },
     "metadata": {
      "needs_background": "light"
     },
     "output_type": "display_data"
    }
   ],
   "source": [
    "# In US, statewise confired, death and recovered\n",
    "plt.figure(figsize=(10,5))\n",
    "df2=df.where(df.Region=='US')\n",
    "df3=df2.dropna()\n",
    "df4=df3[['State','Confirmed','Deaths','Recovered']]\n",
    "print(df4)\n",
    "df4[['Confirmed','Deaths','Recovered']].plot(kind='bar')\n",
    "\n",
    "plt.show()"
   ]
  },
  {
   "cell_type": "code",
   "execution_count": null,
   "metadata": {},
   "outputs": [],
   "source": []
  }
 ],
 "metadata": {
  "kernelspec": {
   "display_name": "Python 3",
   "language": "python",
   "name": "python3"
  },
  "language_info": {
   "codemirror_mode": {
    "name": "ipython",
    "version": 3
   },
   "file_extension": ".py",
   "mimetype": "text/x-python",
   "name": "python",
   "nbconvert_exporter": "python",
   "pygments_lexer": "ipython3",
   "version": "3.7.6"
  }
 },
 "nbformat": 4,
 "nbformat_minor": 4
}
